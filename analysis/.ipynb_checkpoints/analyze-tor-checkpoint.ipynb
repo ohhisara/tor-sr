{
 "cells": [
  {
   "cell_type": "code",
   "execution_count": 32,
   "metadata": {},
   "outputs": [
    {
     "name": "stdout",
     "output_type": "stream",
     "text": [
      "Index([u'0', u'1', u'10', u'100', u'101', u'102', u'103', u'104', u'105',\n",
      "       u'106',\n",
      "       ...\n",
      "       u'90', u'91', u'92', u'93', u'94', u'95', u'96', u'97', u'98', u'99'],\n",
      "      dtype='object', length=895)\n"
     ]
    }
   ],
   "source": [
    "#script para analisar o ficheiro stats.tor.json (resulta da aplicacao do parser tor ctl aos hosts)\n",
    "# host:\n",
    "#   send_bytes: \n",
    "#       {0...1646}\n",
    "#   written_bytes: \n",
    "#       {0...1646}\n",
    "%matplotlib inline\n",
    "import pandas as pd \n",
    "import matplotlib.pyplot as plt\n",
    "import numpy as np\n",
    "\n",
    "main_dict = eval(open(\"stats.tor.json\").read())\n",
    "\n",
    "d = {}\n",
    "names = []\n",
    "i=0\n",
    "for x,item in main_dict.items():\n",
    "    for y, values in item.items():\n",
    "        names.insert(i,str(y))\n",
    "        i=i+1\n",
    "        d[y] = pd.DataFrame(values)\n",
    "\n",
    "for i in d:\n",
    "    d[i].plot(y ='bytes_read',label=i)\n",
    "    plt.show()\n",
    "    d[i].plot(y ='bytes_written',label=i)\n",
    "    plt.show()\n",
    "  \n",
    "\n",
    "#conn = []\n",
    "#j=0\n",
    "#for y in d:\n",
    "#    for x in d['torclient1'].bytes_written.values:\n",
    "#        for z in d[y].bytes_read.values:\n",
    "#            if x == z & not (y in conn):\n",
    "#                conn.insert(j,y)\n",
    "#                j=j+1\n",
    "#print conn\n",
    "\n",
    "\n",
    "\n",
    "\n",
    "\n",
    "#print result\n",
    "#result.to_csv('out_tor_stats.csv')\n",
    "\n",
    "\n",
    "\n",
    "\n",
    "    "
   ]
  },
  {
   "cell_type": "code",
   "execution_count": null,
   "metadata": {},
   "outputs": [],
   "source": []
  }
 ],
 "metadata": {
  "kernelspec": {
   "display_name": "Python 3",
   "language": "python",
   "name": "python3"
  },
  "language_info": {
   "codemirror_mode": {
    "name": "ipython",
    "version": 2
   },
   "file_extension": ".py",
   "mimetype": "text/x-python",
   "name": "python",
   "nbconvert_exporter": "python",
   "pygments_lexer": "ipython2",
   "version": "2.7.15rc1"
  }
 },
 "nbformat": 4,
 "nbformat_minor": 2
}
