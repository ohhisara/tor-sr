{
 "cells": [
  {
   "cell_type": "code",
   "execution_count": 1,
   "metadata": {},
   "outputs": [
    {
     "ename": "IOError",
     "evalue": "[Errno 2] No such file or directory: 'stats.tor.json'",
     "output_type": "error",
     "traceback": [
      "\u001b[0;31m---------------------------------------------------------------------------\u001b[0m",
      "\u001b[0;31mIOError\u001b[0m                                   Traceback (most recent call last)",
      "\u001b[0;32m<ipython-input-1-4f7e4f84aa47>\u001b[0m in \u001b[0;36m<module>\u001b[0;34m()\u001b[0m\n\u001b[1;32m     10\u001b[0m \u001b[0;32mimport\u001b[0m \u001b[0mnumpy\u001b[0m \u001b[0;32mas\u001b[0m \u001b[0mnp\u001b[0m\u001b[0;34m\u001b[0m\u001b[0m\n\u001b[1;32m     11\u001b[0m \u001b[0;34m\u001b[0m\u001b[0m\n\u001b[0;32m---> 12\u001b[0;31m \u001b[0mmain_dict\u001b[0m \u001b[0;34m=\u001b[0m \u001b[0meval\u001b[0m\u001b[0;34m(\u001b[0m\u001b[0mopen\u001b[0m\u001b[0;34m(\u001b[0m\u001b[0;34m\"stats.tor.json\"\u001b[0m\u001b[0;34m)\u001b[0m\u001b[0;34m.\u001b[0m\u001b[0mread\u001b[0m\u001b[0;34m(\u001b[0m\u001b[0;34m)\u001b[0m\u001b[0;34m)\u001b[0m\u001b[0;34m\u001b[0m\u001b[0m\n\u001b[0m\u001b[1;32m     13\u001b[0m \u001b[0;34m\u001b[0m\u001b[0m\n\u001b[1;32m     14\u001b[0m \u001b[0md\u001b[0m \u001b[0;34m=\u001b[0m \u001b[0;34m{\u001b[0m\u001b[0;34m}\u001b[0m\u001b[0;34m\u001b[0m\u001b[0m\n",
      "\u001b[0;31mIOError\u001b[0m: [Errno 2] No such file or directory: 'stats.tor.json'"
     ]
    }
   ],
   "source": [
    "#script para analisar o ficheiro stats.tor.json (resulta da aplicacao do parser tor ctl aos hosts)\n",
    "# host:\n",
    "#   send_bytes: \n",
    "#       {0...1646}\n",
    "#   written_bytes: \n",
    "#       {0...1646}\n",
    "%matplotlib inline\n",
    "import pandas as pd \n",
    "import matplotlib.pyplot as plt\n",
    "import numpy as np\n",
    "\n",
    "main_dict = eval(open(\"stats.tor.json\").read())\n",
    "\n",
    "d = {}\n",
    "names = []\n",
    "i=0\n",
    "for x,item in main_dict.items():\n",
    "    for y, values in item.items():\n",
    "        names.insert(i,str(y))\n",
    "        i=i+1\n",
    "        d[y] = pd.DataFrame(values)\n",
    "        d.to_csv(str(y)+'.csv')\n",
    "        \n",
    "\n",
    "#for i in d:\n",
    "#    d[i].plot(y ='bytes_read',label=i)\n",
    "#    plt.show()\n",
    "#    d[i].plot(y ='bytes_written',label=i)\n",
    "#    plt.show()\n",
    "  \n",
    "\n",
    "#conn = []\n",
    "#j=0\n",
    "#for y in d:\n",
    "#    for x in d['torclient1'].bytes_written.values:\n",
    "#        for z in d[y].bytes_read.values:\n",
    "#            if x == z & not (y in conn):\n",
    "#                conn.insert(j,y)\n",
    "#                j=j+1\n",
    "#print conn\n",
    "\n",
    "\n",
    "\n",
    "\n",
    "#result = pd.concat(d,keys=names)\n",
    "#print result\n",
    "#print result.keys\n",
    "#for i in result.keys:\n",
    "#    result.plot(label=i)\n",
    "#    plt.show()\n",
    "\n",
    "#print result\n",
    "#result.to_csv('out_tor_stats.csv')\n",
    "\n",
    "\n",
    "\n",
    "\n",
    "    "
   ]
  },
  {
   "cell_type": "code",
   "execution_count": null,
   "metadata": {},
   "outputs": [],
   "source": []
  }
 ],
 "metadata": {
  "kernelspec": {
   "display_name": "Python 3",
   "language": "python",
   "name": "python3"
  },
  "language_info": {
   "codemirror_mode": {
    "name": "ipython",
    "version": 2
   },
   "file_extension": ".py",
   "mimetype": "text/x-python",
   "name": "python",
   "nbconvert_exporter": "python",
   "pygments_lexer": "ipython2",
   "version": "2.7.15rc1"
  }
 },
 "nbformat": 4,
 "nbformat_minor": 2
}
